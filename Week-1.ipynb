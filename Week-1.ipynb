{
 "cells": [
  {
   "cell_type": "markdown",
   "id": "81b59e62",
   "metadata": {},
   "source": [
    "# Week 1: Introduction to Data Science and Python Essentials\n"
   ]
  },
  {
   "cell_type": "markdown",
   "id": "89d16045",
   "metadata": {},
   "source": [
    "### Overview of Data Science\n",
    "### Data Science is the practice of extracting insights and knowledge from structured and unstructured data. It involves a combination of mathematics, statistics, and computer science to make data-driven decisions.\n",
    "\n",
    "### Key Areas in Data Science:\n",
    "### - Data Analysis: Understanding and interpreting data to uncover patterns and trends.\n",
    "### - Data Engineering: Structuring and managing data pipelines and databases.\n",
    "### - Machine Learning: Using algorithms to enable systems to learn from data and make predictions.\n",
    "### - Visualization: Presenting data insights visually for easy interpretation."
   ]
  },
  {
   "cell_type": "markdown",
   "id": "bcc62e18",
   "metadata": {},
   "source": [
    "## Python Basics for Data Science\n",
    "#### Python is a versatile and widely-used language in data science due to its simplicity and extensive libraries.\n",
    "#### Essential Python Concepts:\n",
    "#### Variables: Containers for storing data values.\n",
    "#### Data Types: Integers, floats, strings, lists, dictionaries, etc.\n",
    "#### Loops and Conditionals: Control flow tools to execute code based on conditions.\n",
    "#### Functions: Reusable blocks of code.\n"
   ]
  },
  {
   "cell_type": "markdown",
   "id": "930e04a7",
   "metadata": {},
   "source": [
    "# Basic Data Manipulation with Python Lists, Dictionaries, and Functions"
   ]
  },
  {
   "cell_type": "markdown",
   "id": "65615282",
   "metadata": {},
   "source": [
    "## Program 1: Calculate Sum and Average of a List"
   ]
  },
  {
   "cell_type": "markdown",
   "id": "673da7fb",
   "metadata": {},
   "source": [
    "This program calculates the sum and average of a list of numbers using functions."
   ]
  },
  {
   "cell_type": "code",
   "execution_count": null,
   "id": "987f2cdd",
   "metadata": {},
   "outputs": [
    {
     "name": "stdout",
     "output_type": "stream",
     "text": [
      "List of numbers: [15, 25, 35, 45, 55]\n",
      "Sum: 175\n",
      "Average: 35.0\n"
     ]
    }
   ],
   "source": [
    "# Function to calculate sum and average of a list\n",
    "def calculate_sum_and_average(numbers):\n",
    "    total_sum = sum(numbers)\n",
    "    average = total_sum / len(numbers) if numbers else 0\n",
    "    return total_sum, average\n",
    "# Example list of numbers\n",
    "numbers = [15, 25, 35, 45, 55]\n",
    "sum_result, average_result = calculate_sum_and_average(numbers)\n",
    "print(\"List of numbers:\", numbers)\n",
    "print(\"Sum:\", sum_result)\n",
    "print(\"Average:\", average_result)"
   ]
  },
  {
   "cell_type": "markdown",
   "id": "3916df32",
   "metadata": {},
   "source": [
    "## Program 2: Find the Maximum Value in a Dictionary"
   ]
  },
  {
   "cell_type": "markdown",
   "id": "b2b39442",
   "metadata": {},
   "source": [
    "This program finds the maximum value and its corresponding key in a dictionary of items."
   ]
  },
  {
   "cell_type": "code",
   "execution_count": 2,
   "id": "342de79b",
   "metadata": {},
   "outputs": [
    {
     "name": "stdout",
     "output_type": "stream",
     "text": [
      "Dictionary of scores: {'Alice': 82, 'Bob': 91, 'Charlie': 88, 'Diana': 75}\n",
      "Highest scorer: Bob\n",
      "Highest score: 91\n"
     ]
    }
   ],
   "source": [
    "# Function to find the maximum value in a dictionary\n",
    "def find_max_value(dictionary):\n",
    "    max_key = max(dictionary, key=dictionary.get)\n",
    "    max_value = dictionary[max_key]\n",
    "    return max_key, max_value\n",
    "\n",
    "# Example dictionary\n",
    "scores = {\"Alice\": 82, \"Bob\": 91, \"Charlie\": 88, \"Diana\": 75}\n",
    "max_key, max_value = find_max_value(scores)\n",
    "print(\"Dictionary of scores:\", scores)\n",
    "print(\"Highest scorer:\", max_key)\n",
    "print(\"Highest score:\", max_value)\n"
   ]
  },
  {
   "cell_type": "markdown",
   "id": "8285e42c",
   "metadata": {},
   "source": [
    "## Program 3: Merge Two Lists Element-wise"
   ]
  },
  {
   "cell_type": "markdown",
   "id": "abf1798d",
   "metadata": {},
   "source": [
    "This program takes two lists and merges them element-wise using a function."
   ]
  },
  {
   "cell_type": "code",
   "execution_count": 5,
   "id": "44770992",
   "metadata": {},
   "outputs": [
    {
     "name": "stdout",
     "output_type": "stream",
     "text": [
      "List 1: [1, 2, 3]\n",
      "List 2: [4, 5, 6]\n",
      "Merged list (element-wise): [[1, 2, 3, 4, 5, 6]]\n"
     ]
    }
   ],
   "source": [
    "# Function to merge two lists element-wise\n",
    "def merge_lists(list1, list2):\n",
    "    return [list1+list2 ]\n",
    "\n",
    "# Example lists\n",
    "list1 = [1, 2, 3]\n",
    "list2 = [4, 5, 6]\n",
    "merged_list = merge_lists(list1, list2)\n",
    "print(\"List 1:\", list1)\n",
    "print(\"List 2:\", list2)\n",
    "print(\"Merged list (element-wise):\", merged_list)\n"
   ]
  },
  {
   "cell_type": "markdown",
   "id": "dfee93f0",
   "metadata": {},
   "source": [
    "## Summary"
   ]
  },
  {
   "cell_type": "markdown",
   "id": "cc740bb8",
   "metadata": {},
   "source": [
    "In this notebook, we covered three basic data manipulation programs in Python involving lists, dictionaries, and functions:\n",
    "1. Calculating sum and average of a list.\n",
    "2. Finding the maximum value in a dictionary.\n",
    "3. Merging two lists element-wise.\n",
    "\n",
    "These examples demonstrate the versatility of basic data structures and functions in Python."
   ]
  }
 ],
 "metadata": {
  "kernelspec": {
   "display_name": "Python 3",
   "language": "python",
   "name": "python3"
  },
  "language_info": {
   "codemirror_mode": {
    "name": "ipython",
    "version": 3
   },
   "file_extension": ".py",
   "mimetype": "text/x-python",
   "name": "python",
   "nbconvert_exporter": "python",
   "pygments_lexer": "ipython3",
   "version": "3.8.2"
  }
 },
 "nbformat": 4,
 "nbformat_minor": 5
}
