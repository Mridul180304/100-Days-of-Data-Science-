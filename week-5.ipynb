{
 "cells": [
  {
   "cell_type": "markdown",
   "id": "a9c3bdf5",
   "metadata": {},
   "source": [
    "\n",
    "# Week 5: 100 Days of Data Science Challenge\n",
    "\n",
    "Welcome to Week 5 of the 100 Days of Data Science Challenge! This week focuses on **Machine Learning (ML)**, a powerful branch of artificial intelligence that enables systems to learn and improve from experience without being explicitly programmed.\n",
    "\n",
    "## Types of Machine Learning\n",
    "Machine learning can be broadly categorized into three types:\n",
    "1. **Supervised Learning**: Learning from labeled data where the target outcome is known.\n",
    "2. **Unsupervised Learning**: Learning from unlabeled data to find hidden patterns.\n",
    "3. **Reinforcement Learning**: Learning to make decisions by interacting with an environment and receiving feedback.\n",
    "\n",
    "### What is Supervised Learning?\n",
    "Supervised learning is a type of ML where the algorithm is trained on labeled data. It involves two main tasks:\n",
    "1. **Regression**: Predicting continuous outcomes (e.g., predicting housing prices).\n",
    "2. **Classification**: Predicting discrete outcomes (e.g., detecting breast cancer based on diagnostic metrics).\n",
    "\n",
    "In this notebook, we'll explore supervised learning algorithms and apply them to a real-world dataset.\n"
   ]
  },
  {
   "cell_type": "markdown",
   "id": "2894e15c",
   "metadata": {},
   "source": [
    "### Predicting California Housing Price (Regression) and Breast Cancer (Classification)"
   ]
  },
  {
   "cell_type": "code",
   "execution_count": null,
   "id": "5579993e",
   "metadata": {},
   "outputs": [],
   "source": [
    "\n",
    "# Import libraries\n",
    "import pandas as pd\n",
    "import numpy as np\n",
    "import matplotlib.pyplot as plt\n",
    "from sklearn.datasets import fetch_california_housing, load_breast_cancer\n",
    "from sklearn.model_selection import train_test_split\n",
    "from sklearn.metrics import accuracy_score, confusion_matrix, ConfusionMatrixDisplay\n",
    "from sklearn.preprocessing import StandardScaler\n",
    "from sklearn.metrics import mean_squared_error, r2_score\n",
    "\n",
    "# Load California Housing Dataset (Regression)\n",
    "california = fetch_california_housing()\n",
    "california_data = pd.DataFrame(california.data, columns=california.feature_names)\n",
    "california_data['MEDV'] = california.target\n",
    "\n",
    "# Load Breast Cancer Dataset (Classification)\n",
    "cancer = load_breast_cancer()\n",
    "cancer_data = pd.DataFrame(cancer.data, columns=cancer.feature_names)\n",
    "cancer_data['target'] = cancer.target\n",
    "\n",
    "# Prepare Regression Data (California Housing)\n",
    "X_regression = california_data.drop(columns=['MEDV'])\n",
    "y_regression = california_data['MEDV']\n",
    "\n",
    "# Prepare Classification Data (Cancer)\n",
    "X_classification = cancer_data.drop(columns=['target'])\n",
    "y_classification = cancer_data['target']\n",
    "\n",
    "# Train-test split for classification\n",
    "X_train_class, X_test_class, y_train_class, y_test_class = train_test_split(\n",
    "    X_classification, y_classification, test_size=0.2, random_state=42\n",
    ")\n",
    "\n",
    "# Train-test split for regression\n",
    "X_train_reg, X_test_reg, y_train_reg, y_test_reg = train_test_split(\n",
    "    X_regression, y_regression, test_size=0.2, random_state=42\n",
    ")\n",
    "\n",
    "# Standardize the features for classification\n",
    "scaler = StandardScaler()\n",
    "X_train_class = scaler.fit_transform(X_train_class)\n",
    "X_test_class = scaler.transform(X_test_class)\n",
    "\n",
    "# Standardize the features for regression\n",
    "X_train_reg = scaler.fit_transform(X_train_reg)\n",
    "X_test_reg = scaler.transform(X_test_reg)\n",
    "                "
   ]
  },
  {
   "cell_type": "markdown",
   "id": "de7b07c0",
   "metadata": {},
   "source": [
    "## Day 1: Linear Regression"
   ]
  },
  {
   "cell_type": "code",
   "execution_count": 2,
   "id": "aeb0c683",
   "metadata": {},
   "outputs": [
    {
     "name": "stdout",
     "output_type": "stream",
     "text": [
      "Mean Squared Error: 0.56\n",
      "R² Score: 0.58\n"
     ]
    }
   ],
   "source": [
    "\n",
    "from sklearn.linear_model import LinearRegression\n",
    "\n",
    "# Train Linear Regression model\n",
    "lr_model = LinearRegression()\n",
    "lr_model.fit(X_train_reg, y_train_reg)\n",
    "\n",
    "# Predict and evaluate\n",
    "y_pred_reg = lr_model.predict(X_test_reg)\n",
    "print(\"Mean Squared Error:\", round(mean_squared_error(y_test_reg, y_pred_reg),2))\n",
    "print(\"R² Score:\", round(r2_score(y_test_reg, y_pred_reg),2))\n"
   ]
  },
  {
   "cell_type": "markdown",
   "id": "b8d3429c",
   "metadata": {},
   "source": [
    "## Day 2: Logistic Regression"
   ]
  },
  {
   "cell_type": "code",
   "execution_count": 3,
   "id": "322474f9",
   "metadata": {},
   "outputs": [
    {
     "name": "stdout",
     "output_type": "stream",
     "text": [
      "Accuracy: 0.97\n"
     ]
    },
    {
     "data": {
      "image/png": "[encoded data removed]",
      "text/plain": [
       "<Figure size 432x288 with 2 Axes>"
      ]
     },
     "metadata": {
      "needs_background": "light"
     },
     "output_type": "display_data"
    }
   ],
   "source": [
    "\n",
    "from sklearn.linear_model import LogisticRegression\n",
    "from sklearn.metrics import ConfusionMatrixDisplay, accuracy_score\n",
    "\n",
    "# Train Logistic Regression model\n",
    "log_reg_model = LogisticRegression()\n",
    "log_reg_model.fit(X_train_class, y_train_class)\n",
    "\n",
    "# Predict and evaluate\n",
    "y_pred_class = log_reg_model.predict(X_test_class)\n",
    "accuracy = accuracy_score(y_test_class, y_pred_class)\n",
    "print(f\"Accuracy: {accuracy:.2f}\")\n",
    "\n",
    "# Visualize confusion matrix\n",
    "matrix2=confusion_matrix(y_test_class, y_pred_class)\n",
    "cm2=ConfusionMatrixDisplay(matrix2,display_labels=[\"Malignant\",\"Benign\"])\n",
    "cm2.plot(cmap=\"BuGn\")\n",
    "plt.title(\"Confuson Matrix\")\n",
    "plt.show()\n"
   ]
  },
  {
   "cell_type": "markdown",
   "id": "fc08b152",
   "metadata": {},
   "source": [
    "## Day 3: k-Nearest Neighbors (k-NN)"
   ]
  },
  {
   "cell_type": "code",
   "execution_count": 4,
   "id": "4cd444a3",
   "metadata": {},
   "outputs": [
    {
     "name": "stdout",
     "output_type": "stream",
     "text": [
      "Accuracy: 0.95\n"
     ]
    },
    {
     "data": {
      "image/png": "[encoded data removed]",
      "text/plain": [
       "<Figure size 432x288 with 2 Axes>"
      ]
     },
     "metadata": {
      "needs_background": "light"
     },
     "output_type": "display_data"
    }
   ],
   "source": [
    "from sklearn.neighbors import KNeighborsClassifier\n",
    "from sklearn.metrics import ConfusionMatrixDisplay, accuracy_score\n",
    "\n",
    "# Train k-NN model\n",
    "knn_model = KNeighborsClassifier(n_neighbors=5)\n",
    "knn_model.fit(X_train_class, y_train_class)\n",
    "\n",
    "# Predict and evaluate\n",
    "y_pred_knn = knn_model.predict(X_test_class)\n",
    "accuracy = accuracy_score(y_test_class, y_pred_knn)\n",
    "print(f\"Accuracy: {accuracy:.2f}\")\n",
    "\n",
    "# Visualize confusion matrix\n",
    "matrix1=confusion_matrix(y_test_class, y_pred_knn)\n",
    "cm2=ConfusionMatrixDisplay(matrix1,display_labels=[\"Malignant\",\"Benign\"])\n",
    "cm2.plot(cmap=\"BuGn\")\n",
    "plt.title(\"Confuson Matrix\")\n",
    "plt.show()\n"
   ]
  },
  {
   "cell_type": "markdown",
   "id": "70f44d70",
   "metadata": {},
   "source": [
    "## Day 4: Decision Tree"
   ]
  },
  {
   "cell_type": "code",
   "execution_count": 5,
   "id": "8de55cf0",
   "metadata": {},
   "outputs": [
    {
     "name": "stdout",
     "output_type": "stream",
     "text": [
      "Accuracy: 0.95\n"
     ]
    },
    {
     "data": {
      "image/png": "[encoded data removed]",
      "text/plain": [
       "<Figure size 432x288 with 2 Axes>"
      ]
     },
     "metadata": {
      "needs_background": "light"
     },
     "output_type": "display_data"
    }
   ],
   "source": [
    "\n",
    "from sklearn.tree import DecisionTreeClassifier\n",
    "from sklearn.metrics import ConfusionMatrixDisplay, accuracy_score\n",
    "\n",
    "# Train Decision Tree model\n",
    "dt_model = DecisionTreeClassifier(max_depth=5, random_state=42)\n",
    "dt_model.fit(X_train_class, y_train_class)\n",
    "\n",
    "# Predict and evaluate\n",
    "y_pred_dt = dt_model.predict(X_test_class)\n",
    "accuracy = accuracy_score(y_test_class, y_pred_dt)\n",
    "print(f\"Accuracy: {accuracy:.2f}\")\n",
    "\n",
    "# Visualize confusion matrix\n",
    "matrix3=confusion_matrix(y_test_class, y_pred_dt)\n",
    "cm2=ConfusionMatrixDisplay(matrix3,display_labels=[\"Malignant\",\"Benign\"])\n",
    "cm2.plot(cmap=\"BuGn\")\n",
    "plt.title(\"Confuson Matrix\")\n",
    "plt.show()\n"
   ]
  },
  {
   "cell_type": "markdown",
   "id": "fafd73b5",
   "metadata": {},
   "source": [
    "## Day 5: Random Forest"
   ]
  },
  {
   "cell_type": "code",
   "execution_count": 6,
   "id": "234862d6",
   "metadata": {},
   "outputs": [
    {
     "name": "stdout",
     "output_type": "stream",
     "text": [
      "Accuracy: 0.96\n"
     ]
    },
    {
     "data": {
      "image/png": "[encoded data removed]",
      "text/plain": [
       "<Figure size 432x288 with 2 Axes>"
      ]
     },
     "metadata": {
      "needs_background": "light"
     },
     "output_type": "display_data"
    }
   ],
   "source": [
    "\n",
    "from sklearn.ensemble import RandomForestClassifier\n",
    "from sklearn.metrics import ConfusionMatrixDisplay, accuracy_score\n",
    "\n",
    "# Train Random Forest model\n",
    "rf_model = RandomForestClassifier(n_estimators=100, random_state=42)\n",
    "rf_model.fit(X_train_class, y_train_class)\n",
    "\n",
    "# Predict and evaluate\n",
    "y_pred_rf = rf_model.predict(X_test_class)\n",
    "accuracy = accuracy_score(y_test_class, y_pred_rf)\n",
    "print(f\"Accuracy: {accuracy:.2f}\")\n",
    "\n",
    "# Visualize confusion matrix\n",
    "matrix4=confusion_matrix(y_test_class, y_pred_rf)\n",
    "cm2=ConfusionMatrixDisplay(matrix4,display_labels=[\"Malignant\",\"Benign\"])\n",
    "cm2.plot(cmap=\"BuGn\")\n",
    "plt.title(\"Confuson Matrix\")\n",
    "plt.show()\n"
   ]
  },
  {
   "cell_type": "markdown",
   "id": "d8debbaf",
   "metadata": {},
   "source": [
    "## Day 6: Support Vector Machine (SVM)"
   ]
  },
  {
   "cell_type": "code",
   "execution_count": 7,
   "id": "bab7fe1d",
   "metadata": {},
   "outputs": [
    {
     "name": "stdout",
     "output_type": "stream",
     "text": [
      "Accuracy: 0.98\n"
     ]
    },
    {
     "data": {
      "image/png": "[encoded data removed]",
      "text/plain": [
       "<Figure size 432x288 with 2 Axes>"
      ]
     },
     "metadata": {
      "needs_background": "light"
     },
     "output_type": "display_data"
    }
   ],
   "source": [
    "\n",
    "from sklearn.svm import SVC\n",
    "from sklearn.metrics import ConfusionMatrixDisplay, accuracy_score\n",
    "\n",
    "# Train SVM model\n",
    "svm_model = SVC(kernel='rbf', random_state=42)\n",
    "svm_model.fit(X_train_class, y_train_class)\n",
    "\n",
    "# Predict and evaluate\n",
    "y_pred_svm = svm_model.predict(X_test_class)\n",
    "accuracy = accuracy_score(y_test_class, y_pred_svm)\n",
    "print(f\"Accuracy: {accuracy:.2f}\")\n",
    "\n",
    "# Visualize confusion matrix\n",
    "matrix5=confusion_matrix(y_test_class, y_pred_svm)\n",
    "cm2=ConfusionMatrixDisplay(matrix5,display_labels=[\"Malignant\",\"Benign\"])\n",
    "cm2.plot(cmap=\"BuGn\")\n",
    "plt.title(\"Confuson Matrix\")\n",
    "plt.show()\n"
   ]
  },
  {
   "cell_type": "markdown",
   "id": "b2b9ec6f",
   "metadata": {},
   "source": [
    "## Day 7: Naive Bayes"
   ]
  },
  {
   "cell_type": "code",
   "execution_count": 8,
   "id": "d8c3ef0c",
   "metadata": {},
   "outputs": [
    {
     "name": "stdout",
     "output_type": "stream",
     "text": [
      "Accuracy: 0.96\n"
     ]
    },
    {
     "data": {
      "image/png": "[encoded data removed]",
      "text/plain": [
       "<Figure size 432x288 with 2 Axes>"
      ]
     },
     "metadata": {
      "needs_background": "light"
     },
     "output_type": "display_data"
    }
   ],
   "source": [
    "\n",
    "from sklearn.naive_bayes import GaussianNB\n",
    "from sklearn.metrics import ConfusionMatrixDisplay, accuracy_score\n",
    "\n",
    "# Train Naive Bayes model\n",
    "nb_model = GaussianNB()\n",
    "nb_model.fit(X_train_class, y_train_class)\n",
    "\n",
    "# Predict and evaluate\n",
    "y_pred_nb = nb_model.predict(X_test_class)\n",
    "accuracy = accuracy_score(y_test_class, y_pred_nb)\n",
    "print(f\"Accuracy: {accuracy:.2f}\")\n",
    "\n",
    "# Visualize confusion matrix\n",
    "matrix6=confusion_matrix(y_test_class, y_pred_nb)\n",
    "cm2=ConfusionMatrixDisplay(matrix6,display_labels=[\"Malignant\",\"Benign\"])\n",
    "cm2.plot(cmap=\"BuGn\")\n",
    "plt.title(\"Confuson Matrix\")\n",
    "plt.show()\n"
   ]
  }
 ],
 "metadata": {
  "kernelspec": {
   "display_name": "Python 3",
   "language": "python",
   "name": "python3"
  },
  "language_info": {
   "codemirror_mode": {
    "name": "ipython",
    "version": 3
   },
   "file_extension": ".py",
   "mimetype": "text/x-python",
   "name": "python",
   "nbconvert_exporter": "python",
   "pygments_lexer": "ipython3",
   "version": "3.8.2"
  }
 },
 "nbformat": 4,
 "nbformat_minor": 5
}
