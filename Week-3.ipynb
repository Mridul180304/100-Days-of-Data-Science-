{
 "cells": [
  {
   "cell_type": "markdown",
   "metadata": {},
   "source": [
    "## **WEEK 4: DATASET MANIPULATION USING PYTHON**"
   ]
  },
  {
   "cell_type": "markdown",
   "metadata": {},
   "source": [
    "### **Day 1: Introduction to Pandas and Creating Datasets using Series**"
   ]
  },
  {
   "cell_type": "code",
   "execution_count": 2,
   "metadata": {},
   "outputs": [
    {
     "name": "stdout",
     "output_type": "stream",
     "text": [
      "Vegetables Series:\n",
      "0    Tomato\n",
      "1    Potato\n",
      "2     Onion\n",
      "3    Carrot\n",
      "dtype: object\n",
      "\n",
      "Stocks Series (in kg):\n",
      "0    25\n",
      "1    40\n",
      "2    30\n",
      "3    20\n",
      "dtype: int64\n",
      "\n",
      "First vegetable: Tomato\n",
      "Last stock value: 20\n",
      "\n",
      "Total stock of all vegetables (kg): 115\n",
      "Average stock of vegetables (kg): 28.75\n",
      "\n",
      "Vegetable DataFrame:\n",
      "  Vegetable  Stock (kg)\n",
      "0    Tomato          25\n",
      "1    Potato          40\n",
      "2     Onion          30\n",
      "3    Carrot          20\n",
      "\n",
      "DataFrame after adding Price per kg column:\n",
      "  Vegetable  Stock (kg)  Price per kg\n",
      "0    Tomato          25            50\n",
      "1    Potato          40            20\n",
      "2     Onion          30            40\n",
      "3    Carrot          20            30\n",
      "\n",
      "DataFrame after adding Total Value column:\n",
      "  Vegetable  Stock (kg)  Price per kg  Total Value\n",
      "0    Tomato          25            50         1250\n",
      "1    Potato          40            20          800\n",
      "2     Onion          30            40         1200\n",
      "3    Carrot          20            30          600\n"
     ]
    }
   ],
   "source": [
    "import pandas as pd\n",
    "\n",
    "# Creating Series for vegetables and their stock in kg\n",
    "vegetables = pd.Series(['Tomato', 'Potato', 'Onion', 'Carrot'])\n",
    "stocks = pd.Series([25, 40, 30, 20])\n",
    "\n",
    "# Displaying the Series\n",
    "print(\"Vegetables Series:\")\n",
    "print(vegetables)\n",
    "print(\"\\nStocks Series (in kg):\")\n",
    "print(stocks)\n",
    "\n",
    "# Accessing the first vegetable and the last stock value\n",
    "print(\"\\nFirst vegetable:\", vegetables.iloc[0])\n",
    "print(\"Last stock value:\", stocks.iloc[-1])\n",
    "\n",
    "# Calculating total stock and average stock\n",
    "print(\"\\nTotal stock of all vegetables (kg):\", stocks.sum())\n",
    "print(\"Average stock of vegetables (kg):\", stocks.mean())\n",
    "\n",
    "# Creating a DataFrame\n",
    "veg_df = pd.DataFrame({'Vegetable': vegetables, 'Stock (kg)': stocks})\n",
    "print(\"\\nVegetable DataFrame:\")\n",
    "print(veg_df)\n",
    "\n",
    "# Adding a column for price per kg\n",
    "veg_df['Price per kg'] = [50, 20, 40, 30]\n",
    "print(\"\\nDataFrame after adding Price per kg column:\")\n",
    "print(veg_df)\n",
    "\n",
    "# Calculating the total value of each vegetable (Stock * Price)\n",
    "veg_df['Total Value'] = veg_df['Stock (kg)'] * veg_df['Price per kg']\n",
    "print(\"\\nDataFrame after adding Total Value column:\")\n",
    "print(veg_df)"
   ]
  },
  {
   "cell_type": "markdown",
   "metadata": {},
   "source": [
    "### **Day 2: Creating DataFrames Manually and Using Dictionaries**"
   ]
  },
  {
   "cell_type": "code",
   "execution_count": 3,
   "metadata": {},
   "outputs": [
    {
     "name": "stdout",
     "output_type": "stream",
     "text": [
      "Initial DataFrame:\n",
      "     Name  Age  Marks\n",
      "0   Aarav   21     78\n",
      "1  Ishaan   22     85\n",
      "2   Meera   20     90\n",
      "3    Diya   23     88\n",
      "4    Ravi   24     95\n",
      "\n",
      "DataFrame Shape: (5, 3)\n",
      "Column Names: Index(['Name', 'Age', 'Marks'], dtype='object')\n",
      "DataFrame Info:\n",
      "<class 'pandas.core.frame.DataFrame'>\n",
      "RangeIndex: 5 entries, 0 to 4\n",
      "Data columns (total 3 columns):\n",
      " #   Column  Non-Null Count  Dtype \n",
      "---  ------  --------------  ----- \n",
      " 0   Name    5 non-null      object\n",
      " 1   Age     5 non-null      int64 \n",
      " 2   Marks   5 non-null      int64 \n",
      "dtypes: int64(2), object(1)\n",
      "memory usage: 248.0+ bytes\n",
      "None\n",
      "\n",
      "Summary Statistics:\n",
      "             Age      Marks\n",
      "count   5.000000   5.000000\n",
      "mean   22.000000  87.200000\n",
      "std     1.581139   6.300794\n",
      "min    20.000000  78.000000\n",
      "25%    21.000000  85.000000\n",
      "50%    22.000000  88.000000\n",
      "75%    23.000000  90.000000\n",
      "max    24.000000  95.000000\n",
      "\n",
      "DataFrame after adding 'Pass/Fail' column using apply:\n",
      "     Name  Age  Marks Pass/Fail\n",
      "0   Aarav   21     78      Fail\n",
      "1  Ishaan   22     85      Pass\n",
      "2   Meera   20     90      Pass\n",
      "3    Diya   23     88      Pass\n",
      "4    Ravi   24     95      Pass\n",
      "\n",
      "DataFrame after adding 'Name_Upper' column with uppercase names:\n",
      "     Name  Age  Marks Pass/Fail Name_Upper\n",
      "0   Aarav   21     78      Fail      AARAV\n",
      "1  Ishaan   22     85      Pass     ISHAAN\n",
      "2   Meera   20     90      Pass      MEERA\n",
      "3    Diya   23     88      Pass       DIYA\n",
      "4    Ravi   24     95      Pass       RAVI\n",
      "\n",
      "DataFrame after updating 'Age' of Aarav using loc:\n",
      "     Name  Age  Marks Pass/Fail Name_Upper\n",
      "0   Aarav   22     78      Fail      AARAV\n",
      "1  Ishaan   22     85      Pass     ISHAAN\n",
      "2   Meera   20     90      Pass      MEERA\n",
      "3    Diya   23     88      Pass       DIYA\n",
      "4    Ravi   24     95      Pass       RAVI\n",
      "\n",
      "DataFrame after removing 'Name_Upper' column using pop:\n",
      "     Name  Age  Marks Pass/Fail\n",
      "0   Aarav   22     78      Fail\n",
      "1  Ishaan   22     85      Pass\n",
      "2   Meera   20     90      Pass\n",
      "3    Diya   23     88      Pass\n",
      "4    Ravi   24     95      Pass\n",
      "\n",
      "DataFrame after renaming 'Marks' to 'Total Marks':\n",
      "     Name  Age  Total Marks Pass/Fail\n",
      "0   Aarav   22           78      Fail\n",
      "1  Ishaan   22           85      Pass\n",
      "2   Meera   20           90      Pass\n",
      "3    Diya   23           88      Pass\n",
      "4    Ravi   24           95      Pass\n"
     ]
    }
   ],
   "source": [
    "import pandas as pd\n",
    "\n",
    "# Creating a DataFrame using a dictionary with Indian names and student details\n",
    "data = {\n",
    "    'Name': ['Aarav', 'Ishaan', 'Meera', 'Diya', 'Ravi'],\n",
    "    'Age': [21, 22, 20, 23, 24],\n",
    "    'Marks': [78, 85, 90, 88, 95]\n",
    "}\n",
    "\n",
    "df = pd.DataFrame(data)\n",
    "\n",
    "# Displaying the DataFrame\n",
    "print(\"Initial DataFrame:\")\n",
    "print(df)\n",
    "\n",
    "# Checking the structure of the DataFrame\n",
    "print(\"\\nDataFrame Shape:\", df.shape)\n",
    "print(\"Column Names:\", df.columns)\n",
    "print(\"DataFrame Info:\")\n",
    "print(df.info())\n",
    "print(\"\\nSummary Statistics:\")\n",
    "print(df.describe())\n",
    "\n",
    "# Adding a new column based on Marks using apply method\n",
    "df['Pass/Fail'] = df['Marks'].apply(lambda x: 'Pass' if x >= 85 else 'Fail')\n",
    "print(\"\\nDataFrame after adding 'Pass/Fail' column using apply:\")\n",
    "print(df)\n",
    "\n",
    "# Using map() to change names to uppercase\n",
    "df['Name_Upper'] = df['Name'].map(lambda x: x.upper())\n",
    "print(\"\\nDataFrame after adding 'Name_Upper' column with uppercase names:\")\n",
    "print(df)\n",
    "\n",
    "# Using loc[] to update a specific column (Age)\n",
    "df.loc[df['Name'] == 'Aarav', 'Age'] = 22  # Changing Aarav's age\n",
    "print(\"\\nDataFrame after updating 'Age' of Aarav using loc:\")\n",
    "print(df)\n",
    "\n",
    "# Removing a column using pop method\n",
    "df.pop('Name_Upper')\n",
    "print(\"\\nDataFrame after removing 'Name_Upper' column using pop:\")\n",
    "print(df)\n",
    "\n",
    "# Renaming the 'Marks' column to 'Total Marks' using rename\n",
    "df.rename(columns={'Marks': 'Total Marks'}, inplace=True)\n",
    "print(\"\\nDataFrame after renaming 'Marks' to 'Total Marks':\")\n",
    "print(df)"
   ]
  },
  {
   "cell_type": "markdown",
   "metadata": {},
   "source": [
    "### **Day 3: Indexing, Slicing, and Conditional Selection**"
   ]
  },
  {
   "cell_type": "code",
   "execution_count": 4,
   "metadata": {},
   "outputs": [
    {
     "name": "stdout",
     "output_type": "stream",
     "text": [
      "Using .loc[] to select rows:\n",
      "        City  Population  Area (sq km)\n",
      "1      Delhi    16787941        1484.0\n",
      "2  Bengaluru     8443675         709.0\n",
      "3    Kolkata     4486679         185.0\n",
      "\n",
      "Using .iloc[] to select rows:\n",
      "        City  Population  Area (sq km)\n",
      "2  Bengaluru     8443675         709.0\n",
      "3    Kolkata     4486679         185.0\n",
      "4    Chennai     4646732         426.0\n",
      "\n",
      "Cities with Population > 7 million:\n",
      "        City  Population  Area (sq km)\n",
      "0     Mumbai    20411000         603.4\n",
      "1      Delhi    16787941        1484.0\n",
      "2  Bengaluru     8443675         709.0\n",
      "\n",
      "DataFrame after setting 'City' as the index:\n",
      "           Population  Area (sq km)\n",
      "City                               \n",
      "Mumbai       20411000         603.4\n",
      "Delhi        16787941        1484.0\n",
      "Bengaluru     8443675         709.0\n",
      "Kolkata       4486679         185.0\n",
      "Chennai       4646732         426.0\n",
      "\n",
      "DataFrame after resetting the index:\n",
      "        City  Population  Area (sq km)\n",
      "0     Mumbai    20411000         603.4\n",
      "1      Delhi    16787941        1484.0\n",
      "2  Bengaluru     8443675         709.0\n",
      "3    Kolkata     4486679         185.0\n",
      "4    Chennai     4646732         426.0\n"
     ]
    }
   ],
   "source": [
    "import pandas as pd\n",
    "\n",
    "# Creating a DataFrame with Indian cities and their populations\n",
    "data = {\n",
    "    'City': ['Mumbai', 'Delhi', 'Bengaluru', 'Kolkata', 'Chennai'],\n",
    "    'Population': [20411000, 16787941, 8443675, 4486679, 4646732],\n",
    "    'Area (sq km)': [603.4, 1484, 709, 185, 426]\n",
    "}\n",
    "\n",
    "df = pd.DataFrame(data)\n",
    "\n",
    "# Selecting data using .loc[] (label-based)\n",
    "print(\"Using .loc[] to select rows:\")\n",
    "print(df.loc[1:3])  # Selecting rows with labels 1 to 3 (inclusive)\n",
    "\n",
    "# Selecting data using .iloc[] (integer position-based)\n",
    "print(\"\\nUsing .iloc[] to select rows:\")\n",
    "print(df.iloc[2:5])  # Selecting rows with indices 2 to 4 (exclusive)\n",
    "\n",
    "# Conditional selection using Boolean indexing\n",
    "print(\"\\nCities with Population > 7 million:\")\n",
    "print(df[df['Population'] > 7000000])\n",
    "\n",
    "# Setting 'City' column as the index\n",
    "df.set_index('City', inplace=True)\n",
    "print(\"\\nDataFrame after setting 'City' as the index:\")\n",
    "print(df)\n",
    "\n",
    "# Resetting the index\n",
    "df.reset_index(inplace=True)\n",
    "print(\"\\nDataFrame after resetting the index:\")\n",
    "print(df)"
   ]
  },
  {
   "cell_type": "markdown",
   "metadata": {},
   "source": [
    "### **Day 4: Advanced DataFrame Operations (Sorting, Filtering, Aggregation)**"
   ]
  },
  {
   "cell_type": "code",
   "execution_count": null,
   "metadata": {},
   "outputs": [
    {
     "name": "stdout",
     "output_type": "stream",
     "text": [
      "DataFrame sorted by Age:\n",
      "     Name  Age  Score Department\n",
      "2    Amit   24     82         HR\n",
      "4  Vikram   26     92    Finance\n",
      "0     Raj   27     88         HR\n",
      "3    Nina   29     90  Marketing\n",
      "1  Simran   32     95    Finance\n",
      "\n",
      "Employees with Score > 90 using .query():\n",
      "     Name  Age  Score Department\n",
      "1  Simran   32     95    Finance\n",
      "4  Vikram   26     92    Finance\n",
      "\n",
      "Average Score by Department:\n",
      "Department\n",
      "Finance      93.5\n",
      "HR           85.0\n",
      "Marketing    90.0\n",
      "Name: Score, dtype: float64\n",
      "\n",
      "Aggregated statistics by Department:\n",
      "           Score     Age\n",
      "            mean max min\n",
      "Department              \n",
      "Finance     93.5  95  26\n",
      "HR          85.0  88  24\n",
      "Marketing   90.0  90  29\n"
     ]
    }
   ],
   "source": [
    "import pandas as pd\n",
    "# Creating a DataFrame with employee details\n",
    "data = {\n",
    "    'Name': ['Raj', 'Simran', 'Amit', 'Nina', 'Vikram'],\n",
    "    'Age': [27, 32, 24, 29, 26],\n",
    "    'Score': [88, 95, 82, 90, 92],\n",
    "    'Department': ['HR', 'Finance', 'HR', 'Marketing', 'Finance']\n",
    "}\n",
    "df = pd.DataFrame(data)\n",
    "\n",
    "# Sorting the DataFrame by Age\n",
    "sorted_df = df.sort_values(by='Age', ascending=True)\n",
    "print(\"DataFrame sorted by Age:\")\n",
    "print(sorted_df)\n",
    "\n",
    "# Filtering data using .query()\n",
    "high_score_employees = df.query('Score > 90')\n",
    "print(\"\\nEmployees with Score > 90 using .query():\")\n",
    "print(high_score_employees)\n",
    "\n",
    "# Grouping data by Department and calculating average Score\n",
    "avg_score_by_dept = df.groupby('Department')['Score'].mean()\n",
    "print(\"\\nAverage Score by Department:\")\n",
    "print(avg_score_by_dept)\n",
    "\n",
    "# Aggregating multiple statistics\n",
    "agg_stats = df.groupby('Department').agg({'Score': ['mean', 'max'], 'Age': 'min'})\n",
    "print(\"\\nAggregated statistics by Department:\")\n",
    "print(agg_stats)"
   ]
  },
  {
   "cell_type": "markdown",
   "metadata": {},
   "source": [
    "### **Day 5-7: Movie Rating Prediction (Reading Data, Handling Imbalances)**"
   ]
  },
  {
   "cell_type": "code",
   "execution_count": 6,
   "metadata": {},
   "outputs": [
    {
     "data": {
      "text/html": [
       "<div>\n",
       "<style scoped>\n",
       "    .dataframe tbody tr th:only-of-type {\n",
       "        vertical-align: middle;\n",
       "    }\n",
       "\n",
       "    .dataframe tbody tr th {\n",
       "        vertical-align: top;\n",
       "    }\n",
       "\n",
       "    .dataframe thead th {\n",
       "        text-align: right;\n",
       "    }\n",
       "</style>\n",
       "<table border=\"1\" class=\"dataframe\">\n",
       "  <thead>\n",
       "    <tr style=\"text-align: right;\">\n",
       "      <th></th>\n",
       "      <th>Name</th>\n",
       "      <th>Year</th>\n",
       "      <th>Duration</th>\n",
       "      <th>Genre</th>\n",
       "      <th>Rating</th>\n",
       "      <th>Votes</th>\n",
       "      <th>Director</th>\n",
       "      <th>Actor 1</th>\n",
       "      <th>Actor 2</th>\n",
       "      <th>Actor 3</th>\n",
       "    </tr>\n",
       "  </thead>\n",
       "  <tbody>\n",
       "    <tr>\n",
       "      <th>0</th>\n",
       "      <td></td>\n",
       "      <td>NaN</td>\n",
       "      <td>NaN</td>\n",
       "      <td>Drama</td>\n",
       "      <td>NaN</td>\n",
       "      <td>NaN</td>\n",
       "      <td>J.S. Randhawa</td>\n",
       "      <td>Manmauji</td>\n",
       "      <td>Birbal</td>\n",
       "      <td>Rajendra Bhatia</td>\n",
       "    </tr>\n",
       "    <tr>\n",
       "      <th>1</th>\n",
       "      <td>#Gadhvi (He thought he was Gandhi)</td>\n",
       "      <td>(2019)</td>\n",
       "      <td>109 min</td>\n",
       "      <td>Drama</td>\n",
       "      <td>7.0</td>\n",
       "      <td>8</td>\n",
       "      <td>Gaurav Bakshi</td>\n",
       "      <td>Rasika Dugal</td>\n",
       "      <td>Vivek Ghamande</td>\n",
       "      <td>Arvind Jangid</td>\n",
       "    </tr>\n",
       "    <tr>\n",
       "      <th>2</th>\n",
       "      <td>#Homecoming</td>\n",
       "      <td>(2021)</td>\n",
       "      <td>90 min</td>\n",
       "      <td>Drama, Musical</td>\n",
       "      <td>NaN</td>\n",
       "      <td>NaN</td>\n",
       "      <td>Soumyajit Majumdar</td>\n",
       "      <td>Sayani Gupta</td>\n",
       "      <td>Plabita Borthakur</td>\n",
       "      <td>Roy Angana</td>\n",
       "    </tr>\n",
       "    <tr>\n",
       "      <th>3</th>\n",
       "      <td>#Yaaram</td>\n",
       "      <td>(2019)</td>\n",
       "      <td>110 min</td>\n",
       "      <td>Comedy, Romance</td>\n",
       "      <td>4.4</td>\n",
       "      <td>35</td>\n",
       "      <td>Ovais Khan</td>\n",
       "      <td>Prateik</td>\n",
       "      <td>Ishita Raj</td>\n",
       "      <td>Siddhant Kapoor</td>\n",
       "    </tr>\n",
       "    <tr>\n",
       "      <th>4</th>\n",
       "      <td>...And Once Again</td>\n",
       "      <td>(2010)</td>\n",
       "      <td>105 min</td>\n",
       "      <td>Drama</td>\n",
       "      <td>NaN</td>\n",
       "      <td>NaN</td>\n",
       "      <td>Amol Palekar</td>\n",
       "      <td>Rajat Kapoor</td>\n",
       "      <td>Rituparna Sengupta</td>\n",
       "      <td>Antara Mali</td>\n",
       "    </tr>\n",
       "  </tbody>\n",
       "</table>\n",
       "</div>"
      ],
      "text/plain": [
       "                                 Name    Year Duration            Genre  \\\n",
       "0                                         NaN      NaN            Drama   \n",
       "1  #Gadhvi (He thought he was Gandhi)  (2019)  109 min            Drama   \n",
       "2                         #Homecoming  (2021)   90 min   Drama, Musical   \n",
       "3                             #Yaaram  (2019)  110 min  Comedy, Romance   \n",
       "4                   ...And Once Again  (2010)  105 min            Drama   \n",
       "\n",
       "   Rating Votes            Director       Actor 1             Actor 2  \\\n",
       "0     NaN   NaN       J.S. Randhawa      Manmauji              Birbal   \n",
       "1     7.0     8       Gaurav Bakshi  Rasika Dugal      Vivek Ghamande   \n",
       "2     NaN   NaN  Soumyajit Majumdar  Sayani Gupta   Plabita Borthakur   \n",
       "3     4.4    35          Ovais Khan       Prateik          Ishita Raj   \n",
       "4     NaN   NaN        Amol Palekar  Rajat Kapoor  Rituparna Sengupta   \n",
       "\n",
       "           Actor 3  \n",
       "0  Rajendra Bhatia  \n",
       "1    Arvind Jangid  \n",
       "2       Roy Angana  \n",
       "3  Siddhant Kapoor  \n",
       "4      Antara Mali  "
      ]
     },
     "execution_count": 6,
     "metadata": {},
     "output_type": "execute_result"
    }
   ],
   "source": [
    "data=pd.read_csv(r\"C:\\Users\\Dell\\IMDb Movies India.csv\",encoding=\"latin\")\n",
    "data.head()"
   ]
  },
  {
   "cell_type": "code",
   "execution_count": 7,
   "metadata": {},
   "outputs": [
    {
     "data": {
      "text/plain": [
       "(15509, 10)"
      ]
     },
     "execution_count": 7,
     "metadata": {},
     "output_type": "execute_result"
    }
   ],
   "source": [
    "data.shape"
   ]
  },
  {
   "cell_type": "code",
   "execution_count": 8,
   "metadata": {},
   "outputs": [
    {
     "name": "stdout",
     "output_type": "stream",
     "text": [
      "<class 'pandas.core.frame.DataFrame'>\n",
      "RangeIndex: 15509 entries, 0 to 15508\n",
      "Data columns (total 10 columns):\n",
      " #   Column    Non-Null Count  Dtype  \n",
      "---  ------    --------------  -----  \n",
      " 0   Name      15509 non-null  object \n",
      " 1   Year      14981 non-null  object \n",
      " 2   Duration  7240 non-null   object \n",
      " 3   Genre     13632 non-null  object \n",
      " 4   Rating    7919 non-null   float64\n",
      " 5   Votes     7920 non-null   object \n",
      " 6   Director  14984 non-null  object \n",
      " 7   Actor 1   13892 non-null  object \n",
      " 8   Actor 2   13125 non-null  object \n",
      " 9   Actor 3   12365 non-null  object \n",
      "dtypes: float64(1), object(9)\n",
      "memory usage: 1.2+ MB\n"
     ]
    }
   ],
   "source": [
    "data.info()"
   ]
  },
  {
   "cell_type": "code",
   "execution_count": 9,
   "metadata": {},
   "outputs": [
    {
     "data": {
      "text/plain": [
       "Name           0\n",
       "Year         528\n",
       "Duration    8269\n",
       "Genre       1877\n",
       "Rating      7590\n",
       "Votes       7589\n",
       "Director     525\n",
       "Actor 1     1617\n",
       "Actor 2     2384\n",
       "Actor 3     3144\n",
       "dtype: int64"
      ]
     },
     "execution_count": 9,
     "metadata": {},
     "output_type": "execute_result"
    }
   ],
   "source": [
    "data.isnull().sum()"
   ]
  },
  {
   "cell_type": "code",
   "execution_count": 11,
   "metadata": {},
   "outputs": [
    {
     "data": {
      "text/plain": [
       "0      NaN\n",
       "1    109.0\n",
       "2     90.0\n",
       "3    110.0\n",
       "4    105.0\n",
       "Name: Duration, dtype: float64"
      ]
     },
     "execution_count": 11,
     "metadata": {},
     "output_type": "execute_result"
    }
   ],
   "source": [
    "data[\"Duration\"]=data[\"Duration\"].str.replace(\" min\",\"\").astype(float)\n",
    "data[\"Duration\"].head()"
   ]
  },
  {
   "cell_type": "code",
   "execution_count": 12,
   "metadata": {},
   "outputs": [],
   "source": [
    "data[\"Duration\"].fillna(data[\"Duration\"].median(),inplace=True)"
   ]
  }
 ],
 "metadata": {
  "kernelspec": {
   "display_name": "Python 3",
   "language": "python",
   "name": "python3"
  },
  "language_info": {
   "codemirror_mode": {
    "name": "ipython",
    "version": 3
   },
   "file_extension": ".py",
   "mimetype": "text/x-python",
   "name": "python",
   "nbconvert_exporter": "python",
   "pygments_lexer": "ipython3",
   "version": "3.8.2"
  }
 },
 "nbformat": 4,
 "nbformat_minor": 2
}
